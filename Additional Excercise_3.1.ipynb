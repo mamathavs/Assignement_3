{
 "cells": [
  {
   "cell_type": "code",
   "execution_count": 1,
   "metadata": {},
   "outputs": [],
   "source": [
    "import math"
   ]
  },
  {
   "cell_type": "code",
   "execution_count": 8,
   "metadata": {},
   "outputs": [
    {
     "name": "stdout",
     "output_type": "stream",
     "text": [
      "Please enter the radius of the cone4\n",
      "Please enter the height of the cone5\n",
      "Area of the cone is: 83.78 \n"
     ]
    }
   ],
   "source": [
    "class Cone:\n",
    "    def __init__(self,r,h):\n",
    "        self.r=r\n",
    "        self.h=h\n",
    "    def area(self):\n",
    "# Area of a cone is pi*r2*h/3\n",
    "        return math.pi*(self.r**2)*(self.h/3)\n",
    "\n",
    "cone=Cone(4,5)\n",
    "radius=input('Please enter the radius of the cone')\n",
    "height=input('Please enter the height of the cone')\n",
    "print('Area of the cone is: %0.2f ' %cone.area())"
   ]
  },
  {
   "cell_type": "code",
   "execution_count": 12,
   "metadata": {},
   "outputs": [
    {
     "name": "stdout",
     "output_type": "stream",
     "text": [
      "8\n",
      "0.008\n",
      "-32\n",
      "-0.008\n",
      "1\n"
     ]
    }
   ],
   "source": [
    "class MathOperation:\n",
    "    def __init__(self):\n",
    "        pass\n",
    "    def pow(self,num,pow):\n",
    "        return num**pow\n",
    "    \n",
    "M = MathOperation()\n",
    "print(M.pow(2,3))\n",
    "print(M.pow(5,-3))\n",
    "print(M.pow(-2,5))\n",
    "print(M.pow(-5,-3))\n",
    "print(M.pow(20000,0))"
   ]
  },
  {
   "cell_type": "code",
   "execution_count": 14,
   "metadata": {},
   "outputs": [
    {
     "name": "stdout",
     "output_type": "stream",
     "text": [
      "Derived class is a subclass of Base class which will return true : True\n",
      "Base class is a subclass of Derived class which will return false : False\n",
      "Base class is an instance of Derived class which will return false : False\n",
      "Derived class is an instance of Base class which will return true : True\n"
     ]
    }
   ],
   "source": [
    "class BaseClass:\n",
    "    def __init__(self, name, surname, year_of_birth):\n",
    "        self.__name = name\n",
    "        self.__surname = surname\n",
    "        self.__year_of_birth = year_of_birth\n",
    "    \n",
    "    def age(self, current_year):\n",
    "        return current_year - self.__year_of_birth\n",
    "    \n",
    "    def __str__(self):\n",
    "        return \"%s %s and was born %d.\" \\\n",
    "                % (self.__name, self.__surname, self.__year_of_birth)\n",
    "\n",
    "class DerivedClass(BaseClass):\n",
    "    def __init__(self, student_id, *args, **kwargs):\n",
    "        super(DerivedClass, self).__init__(*args, **kwargs)\n",
    "        self._student_id = student_id\n",
    "\n",
    "alec = BaseClass(\"Alec\", \"Baldwin\", 1958)\n",
    "charlie = DerivedClass(1, 'Charlie', 'Brown', 2006)\n",
    "\n",
    "print(\"Derived class is a subclass of Base class which will return true :\",issubclass(DerivedClass,BaseClass))\n",
    "print(\"Base class is a subclass of Derived class which will return false :\",issubclass(BaseClass,DerivedClass))\n",
    "print(\"Base class is an instance of Derived class which will return false :\",isinstance(alec, DerivedClass))\n",
    "print(\"Derived class is an instance of Base class which will return true :\",isinstance(charlie, BaseClass))"
   ]
  },
  {
   "cell_type": "code",
   "execution_count": 17,
   "metadata": {},
   "outputs": [
    {
     "ename": "SyntaxError",
     "evalue": "invalid syntax (<ipython-input-17-05b890a343f4>, line 10)",
     "output_type": "error",
     "traceback": [
      "\u001b[1;36m  File \u001b[1;32m\"<ipython-input-17-05b890a343f4>\"\u001b[1;36m, line \u001b[1;32m10\u001b[0m\n\u001b[1;33m    def __init__(self, *args, **kwargs)\u001b[0m\n\u001b[1;37m                                       ^\u001b[0m\n\u001b[1;31mSyntaxError\u001b[0m\u001b[1;31m:\u001b[0m invalid syntax\n"
     ]
    }
   ],
   "source": [
    "class Person:\n",
    "    def __init__(self,first,last):\n",
    "        self.__first = first\n",
    "        self.__last = last\n",
    "        \n",
    "    def __str__(self):\n",
    "        return \"%s %s\" %(self.__first, self.__last)\n",
    "    \n",
    "class Employee(Person):\n",
    "    def __init__(self, *args, **kwargs)\n",
    "        super(Employee,self).__init__(*args, **kwargs)\n",
    "        \n",
    "    def __str__(self):\n",
    "        return super(Employee, self).__str__()\n",
    "    \n",
    "name = Employee('Mamatha','Sudhakar')\n",
    "print(name)"
   ]
  },
  {
   "cell_type": "code",
   "execution_count": null,
   "metadata": {},
   "outputs": [],
   "source": []
  }
 ],
 "metadata": {
  "kernelspec": {
   "display_name": "Python 3",
   "language": "python",
   "name": "python3"
  },
  "language_info": {
   "codemirror_mode": {
    "name": "ipython",
    "version": 3
   },
   "file_extension": ".py",
   "mimetype": "text/x-python",
   "name": "python",
   "nbconvert_exporter": "python",
   "pygments_lexer": "ipython3",
   "version": "3.7.0"
  }
 },
 "nbformat": 4,
 "nbformat_minor": 2
}
